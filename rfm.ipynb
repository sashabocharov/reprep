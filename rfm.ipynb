{
 "cells": [
  {
   "cell_type": "code",
   "execution_count": 1,
   "metadata": {},
   "outputs": [],
   "source": [
    "import pandas as pd"
   ]
  },
  {
   "cell_type": "code",
   "execution_count": 2,
   "metadata": {},
   "outputs": [],
   "source": [
    "df = pd.read_csv(\n",
    "    'https://gist.githubusercontent.com/andron23/f73a19243564d80a388db2b7b1542fd2/raw/2479b4326f6c8ae13d06060fb8510d04bcf06113/apteka.csv',\n",
    "     sep=';'\n",
    ")"
   ]
  },
  {
   "cell_type": "code",
   "execution_count": 3,
   "metadata": {},
   "outputs": [],
   "source": [
    "df['datetime'] = pd.to_datetime(df['datetime'])"
   ]
  },
  {
   "cell_type": "code",
   "execution_count": 4,
   "metadata": {},
   "outputs": [],
   "source": [
    "df = df[df['card'].str.startswith('2000')]"
   ]
  },
  {
   "cell_type": "code",
   "execution_count": 5,
   "metadata": {},
   "outputs": [
    {
     "data": {
      "text/html": [
       "<div>\n",
       "<style scoped>\n",
       "    .dataframe tbody tr th:only-of-type {\n",
       "        vertical-align: middle;\n",
       "    }\n",
       "\n",
       "    .dataframe tbody tr th {\n",
       "        vertical-align: top;\n",
       "    }\n",
       "\n",
       "    .dataframe thead th {\n",
       "        text-align: right;\n",
       "    }\n",
       "</style>\n",
       "<table border=\"1\" class=\"dataframe\">\n",
       "  <thead>\n",
       "    <tr style=\"text-align: right;\">\n",
       "      <th></th>\n",
       "      <th>datetime</th>\n",
       "      <th>shop</th>\n",
       "      <th>card</th>\n",
       "      <th>bonus_earned</th>\n",
       "      <th>bonus_spent</th>\n",
       "      <th>summ</th>\n",
       "      <th>summ_with_disc</th>\n",
       "      <th>doc_id</th>\n",
       "    </tr>\n",
       "  </thead>\n",
       "  <tbody>\n",
       "    <tr>\n",
       "      <th>641</th>\n",
       "      <td>2021-07-19 09:37:20</td>\n",
       "      <td>Аптека 2</td>\n",
       "      <td>2000200150015</td>\n",
       "      <td>0</td>\n",
       "      <td>1</td>\n",
       "      <td>21</td>\n",
       "      <td>21</td>\n",
       "      <td>15#2002822#65944#2_6</td>\n",
       "    </tr>\n",
       "    <tr>\n",
       "      <th>16455</th>\n",
       "      <td>2021-12-07 20:25:21</td>\n",
       "      <td>Аптека 2</td>\n",
       "      <td>2000200150022</td>\n",
       "      <td>30</td>\n",
       "      <td>0</td>\n",
       "      <td>1351</td>\n",
       "      <td>1351</td>\n",
       "      <td>15#2004825#66085#2_140</td>\n",
       "    </tr>\n",
       "    <tr>\n",
       "      <th>8751</th>\n",
       "      <td>2021-10-05 16:31:25</td>\n",
       "      <td>Аптека 2</td>\n",
       "      <td>2000200150053</td>\n",
       "      <td>15</td>\n",
       "      <td>0</td>\n",
       "      <td>649</td>\n",
       "      <td>649</td>\n",
       "      <td>15#2003981#66022#2_65</td>\n",
       "    </tr>\n",
       "    <tr>\n",
       "      <th>28718</th>\n",
       "      <td>2022-03-17 20:50:23</td>\n",
       "      <td>Аптека 7</td>\n",
       "      <td>2000200150053</td>\n",
       "      <td>1</td>\n",
       "      <td>0</td>\n",
       "      <td>64</td>\n",
       "      <td>64</td>\n",
       "      <td>15#11002624#66185#11_177</td>\n",
       "    </tr>\n",
       "    <tr>\n",
       "      <th>834</th>\n",
       "      <td>2021-07-21 11:10:25</td>\n",
       "      <td>Аптека 2</td>\n",
       "      <td>2000200150091</td>\n",
       "      <td>22</td>\n",
       "      <td>0</td>\n",
       "      <td>746</td>\n",
       "      <td>746</td>\n",
       "      <td>15#2002857#65946#2_4</td>\n",
       "    </tr>\n",
       "    <tr>\n",
       "      <th>...</th>\n",
       "      <td>...</td>\n",
       "      <td>...</td>\n",
       "      <td>...</td>\n",
       "      <td>...</td>\n",
       "      <td>...</td>\n",
       "      <td>...</td>\n",
       "      <td>...</td>\n",
       "      <td>...</td>\n",
       "    </tr>\n",
       "    <tr>\n",
       "      <th>38150</th>\n",
       "      <td>2022-06-07 17:08:45</td>\n",
       "      <td>Аптека 2</td>\n",
       "      <td>2000200259015</td>\n",
       "      <td>69</td>\n",
       "      <td>0</td>\n",
       "      <td>664</td>\n",
       "      <td>664</td>\n",
       "      <td>15#2003527#66267#2_73</td>\n",
       "    </tr>\n",
       "    <tr>\n",
       "      <th>38199</th>\n",
       "      <td>2022-06-07 19:19:12</td>\n",
       "      <td>Аптека 2</td>\n",
       "      <td>2000200259381</td>\n",
       "      <td>53</td>\n",
       "      <td>0</td>\n",
       "      <td>245</td>\n",
       "      <td>245</td>\n",
       "      <td>15#2003527#66267#2_109</td>\n",
       "    </tr>\n",
       "    <tr>\n",
       "      <th>38147</th>\n",
       "      <td>2022-06-07 19:37:59</td>\n",
       "      <td>Аптека 2</td>\n",
       "      <td>2000200259398</td>\n",
       "      <td>65</td>\n",
       "      <td>0</td>\n",
       "      <td>395</td>\n",
       "      <td>395</td>\n",
       "      <td>15#2003527#66267#2_113</td>\n",
       "    </tr>\n",
       "    <tr>\n",
       "      <th>38226</th>\n",
       "      <td>2022-06-08 09:46:52</td>\n",
       "      <td>Аптека 2</td>\n",
       "      <td>2000200259404</td>\n",
       "      <td>73</td>\n",
       "      <td>0</td>\n",
       "      <td>784</td>\n",
       "      <td>784</td>\n",
       "      <td>15#2003546#66268#2_7</td>\n",
       "    </tr>\n",
       "    <tr>\n",
       "      <th>37379</th>\n",
       "      <td>2022-06-01 12:34:41</td>\n",
       "      <td>Аптека 2</td>\n",
       "      <td>2000200259435</td>\n",
       "      <td>122</td>\n",
       "      <td>0</td>\n",
       "      <td>2431</td>\n",
       "      <td>2431</td>\n",
       "      <td>15#2003426#66261#2_35</td>\n",
       "    </tr>\n",
       "  </tbody>\n",
       "</table>\n",
       "<p>21075 rows × 8 columns</p>\n",
       "</div>"
      ],
      "text/plain": [
       "                 datetime      shop           card  bonus_earned  bonus_spent  \\\n",
       "641   2021-07-19 09:37:20  Аптека 2  2000200150015             0            1   \n",
       "16455 2021-12-07 20:25:21  Аптека 2  2000200150022            30            0   \n",
       "8751  2021-10-05 16:31:25  Аптека 2  2000200150053            15            0   \n",
       "28718 2022-03-17 20:50:23  Аптека 7  2000200150053             1            0   \n",
       "834   2021-07-21 11:10:25  Аптека 2  2000200150091            22            0   \n",
       "...                   ...       ...            ...           ...          ...   \n",
       "38150 2022-06-07 17:08:45  Аптека 2  2000200259015            69            0   \n",
       "38199 2022-06-07 19:19:12  Аптека 2  2000200259381            53            0   \n",
       "38147 2022-06-07 19:37:59  Аптека 2  2000200259398            65            0   \n",
       "38226 2022-06-08 09:46:52  Аптека 2  2000200259404            73            0   \n",
       "37379 2022-06-01 12:34:41  Аптека 2  2000200259435           122            0   \n",
       "\n",
       "       summ  summ_with_disc                    doc_id  \n",
       "641      21              21      15#2002822#65944#2_6  \n",
       "16455  1351            1351    15#2004825#66085#2_140  \n",
       "8751    649             649     15#2003981#66022#2_65  \n",
       "28718    64              64  15#11002624#66185#11_177  \n",
       "834     746             746      15#2002857#65946#2_4  \n",
       "...     ...             ...                       ...  \n",
       "38150   664             664     15#2003527#66267#2_73  \n",
       "38199   245             245    15#2003527#66267#2_109  \n",
       "38147   395             395    15#2003527#66267#2_113  \n",
       "38226   784             784      15#2003546#66268#2_7  \n",
       "37379  2431            2431     15#2003426#66261#2_35  \n",
       "\n",
       "[21075 rows x 8 columns]"
      ]
     },
     "execution_count": 5,
     "metadata": {},
     "output_type": "execute_result"
    }
   ],
   "source": [
    "df = df.sort_values(['card', 'datetime'])\n",
    "df"
   ]
  },
  {
   "cell_type": "code",
   "execution_count": 6,
   "metadata": {},
   "outputs": [
    {
     "data": {
      "text/html": [
       "<div>\n",
       "<style scoped>\n",
       "    .dataframe tbody tr th:only-of-type {\n",
       "        vertical-align: middle;\n",
       "    }\n",
       "\n",
       "    .dataframe tbody tr th {\n",
       "        vertical-align: top;\n",
       "    }\n",
       "\n",
       "    .dataframe thead th {\n",
       "        text-align: right;\n",
       "    }\n",
       "</style>\n",
       "<table border=\"1\" class=\"dataframe\">\n",
       "  <thead>\n",
       "    <tr style=\"text-align: right;\">\n",
       "      <th></th>\n",
       "      <th>card</th>\n",
       "      <th>purchase_sum</th>\n",
       "      <th>purchase_amount</th>\n",
       "      <th>last_purchase</th>\n",
       "    </tr>\n",
       "  </thead>\n",
       "  <tbody>\n",
       "    <tr>\n",
       "      <th>0</th>\n",
       "      <td>2000200150015</td>\n",
       "      <td>21</td>\n",
       "      <td>1</td>\n",
       "      <td>2021-07-19 09:37:20</td>\n",
       "    </tr>\n",
       "    <tr>\n",
       "      <th>1</th>\n",
       "      <td>2000200150022</td>\n",
       "      <td>1351</td>\n",
       "      <td>1</td>\n",
       "      <td>2021-12-07 20:25:21</td>\n",
       "    </tr>\n",
       "    <tr>\n",
       "      <th>2</th>\n",
       "      <td>2000200150053</td>\n",
       "      <td>713</td>\n",
       "      <td>2</td>\n",
       "      <td>2022-03-17 20:50:23</td>\n",
       "    </tr>\n",
       "    <tr>\n",
       "      <th>3</th>\n",
       "      <td>2000200150091</td>\n",
       "      <td>3549</td>\n",
       "      <td>5</td>\n",
       "      <td>2022-06-05 11:49:47</td>\n",
       "    </tr>\n",
       "    <tr>\n",
       "      <th>4</th>\n",
       "      <td>2000200150107</td>\n",
       "      <td>1735</td>\n",
       "      <td>3</td>\n",
       "      <td>2022-06-02 17:54:19</td>\n",
       "    </tr>\n",
       "    <tr>\n",
       "      <th>...</th>\n",
       "      <td>...</td>\n",
       "      <td>...</td>\n",
       "      <td>...</td>\n",
       "      <td>...</td>\n",
       "    </tr>\n",
       "    <tr>\n",
       "      <th>5921</th>\n",
       "      <td>2000200259015</td>\n",
       "      <td>664</td>\n",
       "      <td>1</td>\n",
       "      <td>2022-06-07 17:08:45</td>\n",
       "    </tr>\n",
       "    <tr>\n",
       "      <th>5922</th>\n",
       "      <td>2000200259381</td>\n",
       "      <td>245</td>\n",
       "      <td>1</td>\n",
       "      <td>2022-06-07 19:19:12</td>\n",
       "    </tr>\n",
       "    <tr>\n",
       "      <th>5923</th>\n",
       "      <td>2000200259398</td>\n",
       "      <td>395</td>\n",
       "      <td>1</td>\n",
       "      <td>2022-06-07 19:37:59</td>\n",
       "    </tr>\n",
       "    <tr>\n",
       "      <th>5924</th>\n",
       "      <td>2000200259404</td>\n",
       "      <td>784</td>\n",
       "      <td>1</td>\n",
       "      <td>2022-06-08 09:46:52</td>\n",
       "    </tr>\n",
       "    <tr>\n",
       "      <th>5925</th>\n",
       "      <td>2000200259435</td>\n",
       "      <td>2431</td>\n",
       "      <td>1</td>\n",
       "      <td>2022-06-01 12:34:41</td>\n",
       "    </tr>\n",
       "  </tbody>\n",
       "</table>\n",
       "<p>5926 rows × 4 columns</p>\n",
       "</div>"
      ],
      "text/plain": [
       "               card  purchase_sum  purchase_amount       last_purchase\n",
       "0     2000200150015            21                1 2021-07-19 09:37:20\n",
       "1     2000200150022          1351                1 2021-12-07 20:25:21\n",
       "2     2000200150053           713                2 2022-03-17 20:50:23\n",
       "3     2000200150091          3549                5 2022-06-05 11:49:47\n",
       "4     2000200150107          1735                3 2022-06-02 17:54:19\n",
       "...             ...           ...              ...                 ...\n",
       "5921  2000200259015           664                1 2022-06-07 17:08:45\n",
       "5922  2000200259381           245                1 2022-06-07 19:19:12\n",
       "5923  2000200259398           395                1 2022-06-07 19:37:59\n",
       "5924  2000200259404           784                1 2022-06-08 09:46:52\n",
       "5925  2000200259435          2431                1 2022-06-01 12:34:41\n",
       "\n",
       "[5926 rows x 4 columns]"
      ]
     },
     "execution_count": 6,
     "metadata": {},
     "output_type": "execute_result"
    }
   ],
   "source": [
    "df2 = df.groupby('card').agg(\n",
    "    purchase_sum = ('summ_with_disc', 'sum'),\n",
    "    purchase_amount = ('summ_with_disc', 'count'),\n",
    "    last_purchase = ('datetime', 'last'),\n",
    ").reset_index()\n",
    "df2"
   ]
  },
  {
   "cell_type": "code",
   "execution_count": 7,
   "metadata": {},
   "outputs": [],
   "source": [
    "df2['days_since_last_purchase'] = (max(df['datetime']) - df2['last_purchase']).dt.days"
   ]
  },
  {
   "cell_type": "code",
   "execution_count": 8,
   "metadata": {},
   "outputs": [],
   "source": [
    "import seaborn as sns"
   ]
  },
  {
   "cell_type": "code",
   "execution_count": 9,
   "metadata": {},
   "outputs": [
    {
     "data": {
      "text/plain": [
       "<Axes: >"
      ]
     },
     "execution_count": 9,
     "metadata": {},
     "output_type": "execute_result"
    },
    {
     "data": {
      "image/png": "[encoded data removed]",
      "text/plain": [
       "<Figure size 640x480 with 1 Axes>"
      ]
     },
     "metadata": {},
     "output_type": "display_data"
    }
   ],
   "source": [
    "sns.violinplot(df2['purchase_sum'])"
   ]
  },
  {
   "cell_type": "code",
   "execution_count": 10,
   "metadata": {},
   "outputs": [],
   "source": [
    "import numpy as np"
   ]
  },
  {
   "cell_type": "code",
   "execution_count": 11,
   "metadata": {},
   "outputs": [],
   "source": [
    "quantiles = [round(el, 2) for el in np.arange(0.1, 1.1, 0.1)]"
   ]
  },
  {
   "cell_type": "code",
   "execution_count": 12,
   "metadata": {},
   "outputs": [
    {
     "data": {
      "text/plain": [
       "0.1       405.5\n",
       "0.2       620.0\n",
       "0.3       844.0\n",
       "0.4      1103.0\n",
       "0.5      1470.5\n",
       "0.6      2008.0\n",
       "0.7      2731.0\n",
       "0.8      4078.0\n",
       "0.9      6906.5\n",
       "1.0    162687.0\n",
       "Name: purchase_sum, dtype: float64"
      ]
     },
     "execution_count": 12,
     "metadata": {},
     "output_type": "execute_result"
    }
   ],
   "source": [
    "df3 = df2['purchase_sum'].quantile(quantiles)"
   ]
  },
  {
   "cell_type": "code",
   "execution_count": 20,
   "metadata": {},
   "outputs": [
    {
     "data": {
      "text/html": [
       "<div>\n",
       "<style scoped>\n",
       "    .dataframe tbody tr th:only-of-type {\n",
       "        vertical-align: middle;\n",
       "    }\n",
       "\n",
       "    .dataframe tbody tr th {\n",
       "        vertical-align: top;\n",
       "    }\n",
       "\n",
       "    .dataframe thead th {\n",
       "        text-align: right;\n",
       "    }\n",
       "</style>\n",
       "<table border=\"1\" class=\"dataframe\">\n",
       "  <thead>\n",
       "    <tr style=\"text-align: right;\">\n",
       "      <th></th>\n",
       "      <th>Quantiles</th>\n",
       "      <th>Purchase_Sum_Quantiles</th>\n",
       "    </tr>\n",
       "  </thead>\n",
       "  <tbody>\n",
       "    <tr>\n",
       "      <th>0</th>\n",
       "      <td>0.1</td>\n",
       "      <td>405.5</td>\n",
       "    </tr>\n",
       "    <tr>\n",
       "      <th>1</th>\n",
       "      <td>0.2</td>\n",
       "      <td>620.0</td>\n",
       "    </tr>\n",
       "    <tr>\n",
       "      <th>2</th>\n",
       "      <td>0.3</td>\n",
       "      <td>844.0</td>\n",
       "    </tr>\n",
       "    <tr>\n",
       "      <th>3</th>\n",
       "      <td>0.4</td>\n",
       "      <td>1103.0</td>\n",
       "    </tr>\n",
       "    <tr>\n",
       "      <th>4</th>\n",
       "      <td>0.5</td>\n",
       "      <td>1470.5</td>\n",
       "    </tr>\n",
       "    <tr>\n",
       "      <th>5</th>\n",
       "      <td>0.6</td>\n",
       "      <td>2008.0</td>\n",
       "    </tr>\n",
       "    <tr>\n",
       "      <th>6</th>\n",
       "      <td>0.7</td>\n",
       "      <td>2731.0</td>\n",
       "    </tr>\n",
       "    <tr>\n",
       "      <th>7</th>\n",
       "      <td>0.8</td>\n",
       "      <td>4078.0</td>\n",
       "    </tr>\n",
       "    <tr>\n",
       "      <th>8</th>\n",
       "      <td>0.9</td>\n",
       "      <td>6906.5</td>\n",
       "    </tr>\n",
       "    <tr>\n",
       "      <th>9</th>\n",
       "      <td>1.0</td>\n",
       "      <td>162687.0</td>\n",
       "    </tr>\n",
       "  </tbody>\n",
       "</table>\n",
       "</div>"
      ],
      "text/plain": [
       "   Quantiles  Purchase_Sum_Quantiles\n",
       "0        0.1                   405.5\n",
       "1        0.2                   620.0\n",
       "2        0.3                   844.0\n",
       "3        0.4                  1103.0\n",
       "4        0.5                  1470.5\n",
       "5        0.6                  2008.0\n",
       "6        0.7                  2731.0\n",
       "7        0.8                  4078.0\n",
       "8        0.9                  6906.5\n",
       "9        1.0                162687.0"
      ]
     },
     "execution_count": 20,
     "metadata": {},
     "output_type": "execute_result"
    }
   ],
   "source": [
    "df_with_two_columns = pd.DataFrame({\n",
    "    'Quantiles': quantiles,\n",
    "    'Purchase_Sum_Quantiles': df2['purchase_sum'].quantile(quantiles)\n",
    "})\n",
    "df_with_two_columns.reset_index().drop('index', axis=1)"
   ]
  },
  {
   "cell_type": "code",
   "execution_count": 21,
   "metadata": {},
   "outputs": [
    {
     "data": {
      "image/png": "[encoded data removed]",
      "text/plain": [
       "<Figure size 640x480 with 1 Axes>"
      ]
     },
     "metadata": {},
     "output_type": "display_data"
    }
   ],
   "source": [
    "ax = sns.barplot(\n",
    "    y = df_with_two_columns['Quantiles'],\n",
    "    x = df_with_two_columns['Purchase_Sum_Quantiles'],\n",
    "    orient='h'\n",
    ")\n",
    "\n",
    "ax.bar_label(ax.containers[-1]);"
   ]
  },
  {
   "cell_type": "code",
   "execution_count": null,
   "metadata": {},
   "outputs": [],
   "source": []
  }
 ],
 "metadata": {
  "kernelspec": {
   "display_name": "base",
   "language": "python",
   "name": "python3"
  },
  "language_info": {
   "codemirror_mode": {
    "name": "ipython",
    "version": 3
   },
   "file_extension": ".py",
   "mimetype": "text/x-python",
   "name": "python",
   "nbconvert_exporter": "python",
   "pygments_lexer": "ipython3",
   "version": "3.11.4"
  }
 },
 "nbformat": 4,
 "nbformat_minor": 2
}
